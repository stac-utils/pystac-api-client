{
 "cells": [
  {
   "cell_type": "markdown",
   "id": "e06a27bf",
   "metadata": {},
   "source": [
    "# pystac-client CQL Filtering\n",
    "\n",
    "This notebook demonstrates the use of pystac-client to use [CQL2 filtering](https://github.com/radiantearth/stac-api-spec/tree/master/fragments/filter). The server needs to support this and advertise conformance as the `https://api.stacspec.org/v1.0.0-rc.1/item-search#filter` class in the `conformsTo` attribute of the root API.\n",
    "\n",
    "**This should be considered an experimental feature. This notebook uses the Microsoft Planetary Computer API, as it is currently the only public CQL2 implementation. The Planetary Computer API also does not yet advertise the correct conformance class, thus the `ignore_conformance` keyword is specified in the `Client.open` function below.**"
   ]
  },
  {
   "cell_type": "code",
   "execution_count": 8,
   "id": "b65de617",
   "metadata": {},
   "outputs": [],
   "source": [
    "from pystac_client import Client\n",
    "\n",
    "# set pystac_client logger to DEBUG to see API calls\n",
    "import logging\n",
    "logging.basicConfig()\n",
    "logger = logging.getLogger('pystac_client')\n",
    "logger.setLevel(logging.INFO)\n",
    "\n",
    "# function for creating GeoDataFrame from Items\n",
    "from copy import deepcopy\n",
    "import geopandas as gpd\n",
    "import pandas as pd\n",
    "from shapely.geometry import shape\n",
    "\n",
    "# convert a list of STAC Items into a GeoDataFrame\n",
    "def items_to_geodataframe(items):\n",
    "    _items = []\n",
    "    for i in items:\n",
    "        _i = deepcopy(i)\n",
    "        _i['geometry'] = shape(_i['geometry'])\n",
    "        _items.append(_i)\n",
    "    gdf = gpd.GeoDataFrame(pd.json_normalize(_items))\n",
    "    for field in ['properties.datetime', 'properties.created', 'properties.updated']:\n",
    "        if field in gdf:\n",
    "            gdf[field] = pd.to_datetime(gdf[field])\n",
    "    gdf.set_index('properties.datetime', inplace=True)\n",
    "    return gdf"
   ]
  },
  {
   "cell_type": "code",
   "execution_count": 9,
   "id": "98942e75",
   "metadata": {},
   "outputs": [],
   "source": [
    "# STAC API root URL\n",
    "URL = 'https://planetarycomputer.microsoft.com/api/stac/v1'\n",
    "\n",
    "# custom headers\n",
    "headers = []\n",
    "\n",
    "cat = Client.open(URL, headers=headers, ignore_conformance=True)"
   ]
  },
  {
   "cell_type": "markdown",
   "id": "1e16077c",
   "metadata": {},
   "source": [
    "## Initial Search Parameters\n",
    "\n",
    "Here we perform a search with the `Client.search` function, providing a geometry (`intersects`) a datetime range (`datetime`), and filtering by Item properties (`filter`) using CQL2-JSON."
   ]
  },
  {
   "cell_type": "code",
   "execution_count": 10,
   "id": "d8af6334",
   "metadata": {},
   "outputs": [],
   "source": [
    "# AOI around Delfzijl, in the north of The Netherlands\n",
    "geom = {\n",
    "    \"type\": \"Polygon\",\n",
    "    \"coordinates\": [\n",
    "      [\n",
    "        [\n",
    "          6.42425537109375,\n",
    "          53.174765470134616\n",
    "        ],\n",
    "        [\n",
    "          7.344360351562499,\n",
    "          53.174765470134616\n",
    "        ],\n",
    "        [\n",
    "          7.344360351562499,\n",
    "          53.67393435835391\n",
    "        ],\n",
    "        [\n",
    "          6.42425537109375,\n",
    "          53.67393435835391\n",
    "        ],\n",
    "        [\n",
    "          6.42425537109375,\n",
    "          53.174765470134616\n",
    "        ]\n",
    "      ]\n",
    "    ]\n",
    "}\n",
    "\n",
    "params = {\n",
    "    \"collections\": \"landsat-8-c2-l2\",\n",
    "    \"intersects\": geom,\n",
    "    \"datetime\": \"2018-01-01/2020-12-31\",\n",
    "    \"max_items\": 100,\n",
    "}\n",
    "\n",
    "import hvplot.pandas\n",
    "import json\n",
    "\n",
    "# reusable search function\n",
    "def search_fetch_plot(params, filt):\n",
    "    # limit sets the # of items per page so we can see multiple pages getting fetched\n",
    "    params['filter'] = filt\n",
    "    search = cat.search(**params)\n",
    "    items = list(search.get_items_as_dicts()) # safe b/c we set max_items = 100\n",
    "    # DataFrame\n",
    "    items_df = pd.DataFrame(items_to_geodataframe(items))\n",
    "    print(f\"{len(items_df.index)} items found\")\n",
    "    field = 'properties.eo:cloud_cover'\n",
    "    return items_df.hvplot(y=field, label=json.dumps(filt), frame_height=500, frame_width=800)    "
   ]
  },
  {
   "cell_type": "markdown",
   "id": "44d3bc04",
   "metadata": {},
   "source": [
    "## CQL2 Filters\n",
    "\n",
    "Below are examples of several different CQL2 filters on the `eo:cloud_cover` property. Up to 100 Items are fetched and the eo:cloud_cover values plotted."
   ]
  },
  {
   "cell_type": "code",
   "execution_count": 11,
   "id": "dfc0e759",
   "metadata": {},
   "outputs": [
    {
     "ename": "TypeError",
     "evalue": "'Item' object is not subscriptable",
     "output_type": "error",
     "traceback": [
      "\u001b[0;31m---------------------------------------------------------------------------\u001b[0m",
      "\u001b[0;31mTypeError\u001b[0m                                 Traceback (most recent call last)",
      "\u001b[0;32m/var/folders/3q/jbg6x0zx3194zq6_2jbwygjw0000gn/T/ipykernel_73465/2658164751.py\u001b[0m in \u001b[0;36m<cell line: 6>\u001b[0;34m()\u001b[0m\n\u001b[1;32m      4\u001b[0m }\n\u001b[1;32m      5\u001b[0m \u001b[0;34m\u001b[0m\u001b[0m\n\u001b[0;32m----> 6\u001b[0;31m \u001b[0msearch_fetch_plot\u001b[0m\u001b[0;34m(\u001b[0m\u001b[0mparams\u001b[0m\u001b[0;34m,\u001b[0m \u001b[0mfilt\u001b[0m\u001b[0;34m)\u001b[0m\u001b[0;34m\u001b[0m\u001b[0;34m\u001b[0m\u001b[0m\n\u001b[0m",
      "\u001b[0;32m/var/folders/3q/jbg6x0zx3194zq6_2jbwygjw0000gn/T/ipykernel_73465/1512843940.py\u001b[0m in \u001b[0;36msearch_fetch_plot\u001b[0;34m(params, filt)\u001b[0m\n\u001b[1;32m     46\u001b[0m     \u001b[0mitems\u001b[0m \u001b[0;34m=\u001b[0m \u001b[0mtake\u001b[0m\u001b[0;34m(\u001b[0m\u001b[0;36m100\u001b[0m\u001b[0;34m,\u001b[0m \u001b[0msearch\u001b[0m\u001b[0;34m.\u001b[0m\u001b[0mget_items\u001b[0m\u001b[0;34m(\u001b[0m\u001b[0;34m)\u001b[0m\u001b[0;34m)\u001b[0m\u001b[0;34m\u001b[0m\u001b[0;34m\u001b[0m\u001b[0m\n\u001b[1;32m     47\u001b[0m     \u001b[0;31m# DataFrame\u001b[0m\u001b[0;34m\u001b[0m\u001b[0;34m\u001b[0m\u001b[0m\n\u001b[0;32m---> 48\u001b[0;31m     \u001b[0mitems_df\u001b[0m \u001b[0;34m=\u001b[0m \u001b[0mpd\u001b[0m\u001b[0;34m.\u001b[0m\u001b[0mDataFrame\u001b[0m\u001b[0;34m(\u001b[0m\u001b[0mitems_to_geodataframe\u001b[0m\u001b[0;34m(\u001b[0m\u001b[0mitems\u001b[0m\u001b[0;34m)\u001b[0m\u001b[0;34m)\u001b[0m\u001b[0;34m\u001b[0m\u001b[0;34m\u001b[0m\u001b[0m\n\u001b[0m\u001b[1;32m     49\u001b[0m     \u001b[0mprint\u001b[0m\u001b[0;34m(\u001b[0m\u001b[0;34mf\"{len(items_df.index)} items found\"\u001b[0m\u001b[0;34m)\u001b[0m\u001b[0;34m\u001b[0m\u001b[0;34m\u001b[0m\u001b[0m\n\u001b[1;32m     50\u001b[0m     \u001b[0mfield\u001b[0m \u001b[0;34m=\u001b[0m \u001b[0;34m'properties.eo:cloud_cover'\u001b[0m\u001b[0;34m\u001b[0m\u001b[0;34m\u001b[0m\u001b[0m\n",
      "\u001b[0;32m/var/folders/3q/jbg6x0zx3194zq6_2jbwygjw0000gn/T/ipykernel_73465/3732288798.py\u001b[0m in \u001b[0;36mitems_to_geodataframe\u001b[0;34m(items)\u001b[0m\n\u001b[1;32m     18\u001b[0m     \u001b[0;32mfor\u001b[0m \u001b[0mi\u001b[0m \u001b[0;32min\u001b[0m \u001b[0mitems\u001b[0m\u001b[0;34m:\u001b[0m\u001b[0;34m\u001b[0m\u001b[0;34m\u001b[0m\u001b[0m\n\u001b[1;32m     19\u001b[0m         \u001b[0m_i\u001b[0m \u001b[0;34m=\u001b[0m \u001b[0mdeepcopy\u001b[0m\u001b[0;34m(\u001b[0m\u001b[0mi\u001b[0m\u001b[0;34m)\u001b[0m\u001b[0;34m\u001b[0m\u001b[0;34m\u001b[0m\u001b[0m\n\u001b[0;32m---> 20\u001b[0;31m         \u001b[0m_i\u001b[0m\u001b[0;34m[\u001b[0m\u001b[0;34m'geometry'\u001b[0m\u001b[0;34m]\u001b[0m \u001b[0;34m=\u001b[0m \u001b[0mshape\u001b[0m\u001b[0;34m(\u001b[0m\u001b[0m_i\u001b[0m\u001b[0;34m[\u001b[0m\u001b[0;34m'geometry'\u001b[0m\u001b[0;34m]\u001b[0m\u001b[0;34m)\u001b[0m\u001b[0;34m\u001b[0m\u001b[0;34m\u001b[0m\u001b[0m\n\u001b[0m\u001b[1;32m     21\u001b[0m         \u001b[0m_items\u001b[0m\u001b[0;34m.\u001b[0m\u001b[0mappend\u001b[0m\u001b[0;34m(\u001b[0m\u001b[0m_i\u001b[0m\u001b[0;34m)\u001b[0m\u001b[0;34m\u001b[0m\u001b[0;34m\u001b[0m\u001b[0m\n\u001b[1;32m     22\u001b[0m     \u001b[0mgdf\u001b[0m \u001b[0;34m=\u001b[0m \u001b[0mgpd\u001b[0m\u001b[0;34m.\u001b[0m\u001b[0mGeoDataFrame\u001b[0m\u001b[0;34m(\u001b[0m\u001b[0mpd\u001b[0m\u001b[0;34m.\u001b[0m\u001b[0mjson_normalize\u001b[0m\u001b[0;34m(\u001b[0m\u001b[0m_items\u001b[0m\u001b[0;34m)\u001b[0m\u001b[0;34m)\u001b[0m\u001b[0;34m\u001b[0m\u001b[0;34m\u001b[0m\u001b[0m\n",
      "\u001b[0;31mTypeError\u001b[0m: 'Item' object is not subscriptable"
     ]
    }
   ],
   "source": [
    "filt = {\n",
    "    \"op\": \"lte\",\n",
    "    \"args\": [{\"property\": \"eo:cloud_cover\"}, 10]\n",
    "}\n",
    "\n",
    "search_fetch_plot(params, filt)"
   ]
  },
  {
   "cell_type": "code",
   "execution_count": null,
   "id": "9c2f9ca1",
   "metadata": {},
   "outputs": [
    {
     "name": "stdout",
     "output_type": "stream",
     "text": [
      "92 items found\n"
     ]
    },
    {
     "data": {},
     "metadata": {},
     "output_type": "display_data"
    },
    {
     "data": {
      "application/vnd.holoviews_exec.v0+json": "",
      "text/html": [
       "<div id='2474'>\n",
       "  <div class=\"bk-root\" id=\"088eaa9a-7cf3-4325-bef5-b614fd538b2f\" data-root-id=\"2474\"></div>\n",
       "</div>\n",
       "<script type=\"application/javascript\">(function(root) {\n",
       "  function embed_document(root) {\n",
       "    var docs_json = {\"e0358105-14d3-4b74-860d-2c1c9f3efac1\":{\"defs\":[{\"extends\":null,\"module\":null,\"name\":\"ReactiveHTML1\",\"overrides\":[],\"properties\":[]},{\"extends\":null,\"module\":null,\"name\":\"FlexBox1\",\"overrides\":[],\"properties\":[{\"default\":\"flex-start\",\"kind\":null,\"name\":\"align_content\"},{\"default\":\"flex-start\",\"kind\":null,\"name\":\"align_items\"},{\"default\":\"row\",\"kind\":null,\"name\":\"flex_direction\"},{\"default\":\"wrap\",\"kind\":null,\"name\":\"flex_wrap\"},{\"default\":\"flex-start\",\"kind\":null,\"name\":\"justify_content\"}]},{\"extends\":null,\"module\":null,\"name\":\"GridStack1\",\"overrides\":[],\"properties\":[{\"default\":\"warn\",\"kind\":null,\"name\":\"mode\"},{\"default\":null,\"kind\":null,\"name\":\"ncols\"},{\"default\":null,\"kind\":null,\"name\":\"nrows\"},{\"default\":true,\"kind\":null,\"name\":\"allow_resize\"},{\"default\":true,\"kind\":null,\"name\":\"allow_drag\"},{\"default\":[],\"kind\":null,\"name\":\"state\"}]},{\"extends\":null,\"module\":null,\"name\":\"click1\",\"overrides\":[],\"properties\":[{\"default\":\"\",\"kind\":null,\"name\":\"terminal_output\"},{\"default\":\"\",\"kind\":null,\"name\":\"debug_name\"},{\"default\":0,\"kind\":null,\"name\":\"clears\"}]},{\"extends\":null,\"module\":null,\"name\":\"NotificationAreaBase1\",\"overrides\":[],\"properties\":[{\"default\":\"bottom-right\",\"kind\":null,\"name\":\"position\"},{\"default\":0,\"kind\":null,\"name\":\"_clear\"}]},{\"extends\":null,\"module\":null,\"name\":\"NotificationArea1\",\"overrides\":[],\"properties\":[{\"default\":[],\"kind\":null,\"name\":\"notifications\"},{\"default\":\"bottom-right\",\"kind\":null,\"name\":\"position\"},{\"default\":0,\"kind\":null,\"name\":\"_clear\"},{\"default\":[{\"background\":\"#ffc107\",\"icon\":{\"className\":\"fas fa-exclamation-triangle\",\"color\":\"white\",\"tagName\":\"i\"},\"type\":\"warning\"},{\"background\":\"#007bff\",\"icon\":{\"className\":\"fas fa-info-circle\",\"color\":\"white\",\"tagName\":\"i\"},\"type\":\"info\"}],\"kind\":null,\"name\":\"types\"}]},{\"extends\":null,\"module\":null,\"name\":\"Notification\",\"overrides\":[],\"properties\":[{\"default\":null,\"kind\":null,\"name\":\"background\"},{\"default\":3000,\"kind\":null,\"name\":\"duration\"},{\"default\":null,\"kind\":null,\"name\":\"icon\"},{\"default\":\"\",\"kind\":null,\"name\":\"message\"},{\"default\":null,\"kind\":null,\"name\":\"notification_type\"},{\"default\":false,\"kind\":null,\"name\":\"_destroyed\"}]},{\"extends\":null,\"module\":null,\"name\":\"TemplateActions1\",\"overrides\":[],\"properties\":[{\"default\":0,\"kind\":null,\"name\":\"open_modal\"},{\"default\":0,\"kind\":null,\"name\":\"close_modal\"}]},{\"extends\":null,\"module\":null,\"name\":\"MaterialTemplateActions1\",\"overrides\":[],\"properties\":[{\"default\":0,\"kind\":null,\"name\":\"open_modal\"},{\"default\":0,\"kind\":null,\"name\":\"close_modal\"}]}],\"roots\":{\"references\":[{\"attributes\":{\"line_color\":\"#30a2da\",\"line_width\":2,\"x\":{\"field\":\"properties.datetime\"},\"y\":{\"field\":\"properties.eo:cloud_cover\"}},\"id\":\"2517\",\"type\":\"Line\"},{\"attributes\":{\"axis\":{\"id\":\"2492\"},\"coordinates\":null,\"dimension\":1,\"grid_line_color\":null,\"group\":null,\"ticker\":null},\"id\":\"2495\",\"type\":\"Grid\"},{\"attributes\":{\"below\":[{\"id\":\"2488\"}],\"center\":[{\"id\":\"2491\"},{\"id\":\"2495\"}],\"frame_height\":500,\"frame_width\":800,\"height\":null,\"left\":[{\"id\":\"2492\"}],\"margin\":[5,5,5,5],\"min_border_bottom\":10,\"min_border_left\":10,\"min_border_right\":10,\"min_border_top\":10,\"renderers\":[{\"id\":\"2515\"}],\"sizing_mode\":\"fixed\",\"title\":{\"id\":\"2480\"},\"toolbar\":{\"id\":\"2502\"},\"width\":null,\"x_range\":{\"id\":\"2476\"},\"x_scale\":{\"id\":\"2484\"},\"y_range\":{\"id\":\"2477\"},\"y_scale\":{\"id\":\"2486\"}},\"id\":\"2479\",\"subtype\":\"Figure\",\"type\":\"Plot\"},{\"attributes\":{\"callback\":null,\"formatters\":{\"@{properties.datetime}\":\"datetime\",\"@{properties_full_stop_datetime}\":\"datetime\"},\"renderers\":[{\"id\":\"2515\"}],\"tags\":[\"hv_created\"],\"tooltips\":[[\"properties.datetime\",\"@{properties_full_stop_datetime}{%F %T}\"],[\"properties.eo:cloud_cover\",\"@{properties_full_stop_eo_colon_cloud_cover}\"]]},\"id\":\"2478\",\"type\":\"HoverTool\"},{\"attributes\":{},\"id\":\"2523\",\"type\":\"AllLabels\"},{\"attributes\":{\"axis\":{\"id\":\"2488\"},\"coordinates\":null,\"grid_line_color\":null,\"group\":null,\"ticker\":null},\"id\":\"2491\",\"type\":\"Grid\"},{\"attributes\":{\"num_minor_ticks\":5,\"tickers\":[{\"id\":\"2534\"},{\"id\":\"2535\"},{\"id\":\"2536\"},{\"id\":\"2537\"},{\"id\":\"2538\"},{\"id\":\"2539\"},{\"id\":\"2540\"},{\"id\":\"2541\"},{\"id\":\"2542\"},{\"id\":\"2543\"},{\"id\":\"2544\"},{\"id\":\"2545\"}]},\"id\":\"2489\",\"type\":\"DatetimeTicker\"},{\"attributes\":{},\"id\":\"2519\",\"type\":\"DatetimeTickFormatter\"},{\"attributes\":{\"end\":101.998,\"reset_end\":101.998,\"reset_start\":78.02199999999999,\"start\":78.02199999999999,\"tags\":[[[\"properties.eo:cloud_cover\",\"properties.eo:cloud_cover\",null]]]},\"id\":\"2477\",\"type\":\"Range1d\"},{\"attributes\":{\"line_alpha\":0.1,\"line_color\":\"#30a2da\",\"line_width\":2,\"x\":{\"field\":\"properties.datetime\"},\"y\":{\"field\":\"properties.eo:cloud_cover\"}},\"id\":\"2513\",\"type\":\"Line\"},{\"attributes\":{\"axis_label\":\"properties.eo:cloud_cover\",\"coordinates\":null,\"formatter\":{\"id\":\"2522\"},\"group\":null,\"major_label_policy\":{\"id\":\"2523\"},\"ticker\":{\"id\":\"2493\"}},\"id\":\"2492\",\"type\":\"LinearAxis\"},{\"attributes\":{},\"id\":\"2520\",\"type\":\"AllLabels\"},{\"attributes\":{\"coordinates\":null,\"group\":null,\"text\":\"{\\\"op\\\": \\\"gte\\\", \\\"args\\\": [{\\\"property\\\": \\\"eo:cloud_cover\\\"}, 80]}\",\"text_color\":\"black\",\"text_font_size\":\"12pt\"},\"id\":\"2480\",\"type\":\"Title\"},{\"attributes\":{},\"id\":\"2486\",\"type\":\"LinearScale\"},{\"attributes\":{\"data\":{\"properties.datetime\":{\"__ndarray__\":\"sPxnGZYPdkJedoxLexJ2Qq7bYFF7EnZCeww0bbwUdkKJtQhzvBR2Qi3UtaWhF3ZC+FsSIgkfdkI/weYnCR92QgJT91nuIXZCSrjLX+4hdkIQOhSY0yR2Qla+TLQUJ3ZC/NU41lUpdkJIOw3cVSl2Qgq1KA47LHZCVhr9EzssdkIQUPlnYTF2QpFxzW1hMXZC56cwQ+89dkLVrv191EB2QqBQCZwVQ3ZCdT3eoRVDdkII2ir2bVV2QkIUsxmvV3ZCJx0icdVcdkJ3gvZ21Vx2QqKFt7C6X3ZCpHhQZgdqdkKuISVsB2p2QpPsUo9IbHZCthdqR5V2dkJ/2OOM7Yh2Qss9uJLtiHZCkQk27hOOdkIItKsQVZB2QlyjS0k6k3ZCCBqoZXuVdkI3hxaeYJh2Qk4w66NgmHZCF+tyxqGadkInXfN17qR2QpyspLXTp3ZC0dAeMjuvdkLjefM3O692Qs3e6Y9htHZCrsu+lWG0dkL80+jJRrd2QtnAvc9Gt3ZC/sIu7Ye5dkJKKAPzh7l2QqZf6CZtvHZCf0y9LG28dkKYdvZJrr52Qufbyk+uvnZC8NfGg5PBdkIGgZuJk8F2QiGoUqfUw3ZCg6jevkfTdkJGIAgcbth2Qh8N3SFu2HZC1QTcsXngdkIlJljauuJ2QsvFMxOg5XZC7iK2L+HndkLHD4s14ed2QrYFlG7G6nZCgUd81V//dkLJrFDbX/92QtlusPegAXdCIdSE/aABd0Iz/4gwhgR3QkqoXTaGBHdCsru4WMcGd0IAegRvawd3QmI6YIusCXdCdeM0kawJd0Kcdpnl0g53QiGYbevSDndCi2ypu2Abd0K4Emsv+i93QgR4PzX6L3dClu9mb98yd0J5zfaMIDV3QmCtiYFSQndCd1Zeh1JCd0Jz9mQ8n0x3QkjjOUKfTHdCJ2WAX+BOd0IEUlVl4E53QnFn8ZjFUXdCfxDGnsVRd0Ip/pjBBlR3Qg==\",\"dtype\":\"float64\",\"order\":\"little\",\"shape\":[92]},\"properties.eo:cloud_cover\":{\"__ndarray__\":\"AAAAAAAAWUCPwvUoXP9YQArXo3A9+lhAAAAAAAAAWUAAAAAAAABZQOF6FK5HAVRAFK5H4XqUVEBI4XoUrldUQI/C9Shc/1hAH4XrUbj+WECPwvUoXP9YQClcj8L12FdA16NwPQqXVkDXo3A9CjdWQK5H4XoU/lhArkfhehT+WEDsUbgehftYQAAAAAAAAFlAXI/C9Sj8WECamZmZmflVQAAAAAAAAFlAAAAAAAAAWUDsUbgehUtWQM3MzMzMPFZAj8L1KFz/WECamZmZmelYQD0K16NwHVdAXI/C9SiMVUDsUbgehftYQFK4HoXrEVdAzczMzMyMVkBI4XoUrjdYQArXo3A9+lhAuB6F61HoVkDhehSuR4FWQAAAAAAAAFlAPQrXo3D9WEAAAAAAAABZQAAAAAAAAFlAuB6F61EIWEBmZmZmZgZVQFK4HoXrQVRAMzMzMzPTWEB7FK5H4XpXQI/C9Shc/1hAMzMzMzNzVkAzMzMzM/NXQGZmZmZmxlZAMzMzMzPjWEB7FK5H4TpWQFyPwvUofFZAPQrXo3D9WEDsUbgehYtWQNejcD0KB1ZAAAAAAAAAWUBSuB6F67FXQD0K16NwPVdAw/UoXI8yVEAfhetRuP5YQAAAAAAA4FdAUrgeheuhWEDXo3A9CsdVQFyPwvUo3FZASOF6FK7nWEAK16NwPVpUQOxRuB6F+1hAAAAAAAAAWUAAAAAAAABZQKRwPQrXQ1dApHA9CtcjVUAAAAAAAABZQFyPwvUo/FhAcT0K16PgV0AAAAAAAABZQIXrUbgedVRAw/UoXI9yV0AAAAAAAABZQI/C9Shcz1ZAmpmZmZlZVECPwvUoXJ9VQM3MzMzMvFZAAAAAAADgV0AK16NwPbpUQHE9Ctej4FhAj8L1KFz/WECkcD0K1xNYQNejcD0Kt1hAAAAAAAAAWUCuR+F6FP5YQB+F61G4XlZAexSuR+H6VUC4HoXrUThXQA==\",\"dtype\":\"float64\",\"order\":\"little\",\"shape\":[92]},\"properties_full_stop_datetime\":{\"__ndarray__\":\"sPxnGZYPdkJedoxLexJ2Qq7bYFF7EnZCeww0bbwUdkKJtQhzvBR2Qi3UtaWhF3ZC+FsSIgkfdkI/weYnCR92QgJT91nuIXZCSrjLX+4hdkIQOhSY0yR2Qla+TLQUJ3ZC/NU41lUpdkJIOw3cVSl2Qgq1KA47LHZCVhr9EzssdkIQUPlnYTF2QpFxzW1hMXZC56cwQ+89dkLVrv191EB2QqBQCZwVQ3ZCdT3eoRVDdkII2ir2bVV2QkIUsxmvV3ZCJx0icdVcdkJ3gvZ21Vx2QqKFt7C6X3ZCpHhQZgdqdkKuISVsB2p2QpPsUo9IbHZCthdqR5V2dkJ/2OOM7Yh2Qss9uJLtiHZCkQk27hOOdkIItKsQVZB2QlyjS0k6k3ZCCBqoZXuVdkI3hxaeYJh2Qk4w66NgmHZCF+tyxqGadkInXfN17qR2QpyspLXTp3ZC0dAeMjuvdkLjefM3O692Qs3e6Y9htHZCrsu+lWG0dkL80+jJRrd2QtnAvc9Gt3ZC/sIu7Ye5dkJKKAPzh7l2QqZf6CZtvHZCf0y9LG28dkKYdvZJrr52Qufbyk+uvnZC8NfGg5PBdkIGgZuJk8F2QiGoUqfUw3ZCg6jevkfTdkJGIAgcbth2Qh8N3SFu2HZC1QTcsXngdkIlJljauuJ2QsvFMxOg5XZC7iK2L+HndkLHD4s14ed2QrYFlG7G6nZCgUd81V//dkLJrFDbX/92QtlusPegAXdCIdSE/aABd0Iz/4gwhgR3QkqoXTaGBHdCsru4WMcGd0IAegRvawd3QmI6YIusCXdCdeM0kawJd0Kcdpnl0g53QiGYbevSDndCi2ypu2Abd0K4Emsv+i93QgR4PzX6L3dClu9mb98yd0J5zfaMIDV3QmCtiYFSQndCd1Zeh1JCd0Jz9mQ8n0x3QkjjOUKfTHdCJ2WAX+BOd0IEUlVl4E53QnFn8ZjFUXdCfxDGnsVRd0Ip/pjBBlR3Qg==\",\"dtype\":\"float64\",\"order\":\"little\",\"shape\":[92]},\"properties_full_stop_eo_colon_cloud_cover\":{\"__ndarray__\":\"AAAAAAAAWUCPwvUoXP9YQArXo3A9+lhAAAAAAAAAWUAAAAAAAABZQOF6FK5HAVRAFK5H4XqUVEBI4XoUrldUQI/C9Shc/1hAH4XrUbj+WECPwvUoXP9YQClcj8L12FdA16NwPQqXVkDXo3A9CjdWQK5H4XoU/lhArkfhehT+WEDsUbgehftYQAAAAAAAAFlAXI/C9Sj8WECamZmZmflVQAAAAAAAAFlAAAAAAAAAWUDsUbgehUtWQM3MzMzMPFZAj8L1KFz/WECamZmZmelYQD0K16NwHVdAXI/C9SiMVUDsUbgehftYQFK4HoXrEVdAzczMzMyMVkBI4XoUrjdYQArXo3A9+lhAuB6F61HoVkDhehSuR4FWQAAAAAAAAFlAPQrXo3D9WEAAAAAAAABZQAAAAAAAAFlAuB6F61EIWEBmZmZmZgZVQFK4HoXrQVRAMzMzMzPTWEB7FK5H4XpXQI/C9Shc/1hAMzMzMzNzVkAzMzMzM/NXQGZmZmZmxlZAMzMzMzPjWEB7FK5H4TpWQFyPwvUofFZAPQrXo3D9WEDsUbgehYtWQNejcD0KB1ZAAAAAAAAAWUBSuB6F67FXQD0K16NwPVdAw/UoXI8yVEAfhetRuP5YQAAAAAAA4FdAUrgeheuhWEDXo3A9CsdVQFyPwvUo3FZASOF6FK7nWEAK16NwPVpUQOxRuB6F+1hAAAAAAAAAWUAAAAAAAABZQKRwPQrXQ1dApHA9CtcjVUAAAAAAAABZQFyPwvUo/FhAcT0K16PgV0AAAAAAAABZQIXrUbgedVRAw/UoXI9yV0AAAAAAAABZQI/C9Shcz1ZAmpmZmZlZVECPwvUoXJ9VQM3MzMzMvFZAAAAAAADgV0AK16NwPbpUQHE9Ctej4FhAj8L1KFz/WECkcD0K1xNYQNejcD0Kt1hAAAAAAAAAWUCuR+F6FP5YQB+F61G4XlZAexSuR+H6VUC4HoXrUThXQA==\",\"dtype\":\"float64\",\"order\":\"little\",\"shape\":[92]}},\"selected\":{\"id\":\"2510\"},\"selection_policy\":{\"id\":\"2531\"}},\"id\":\"2509\",\"type\":\"ColumnDataSource\"},{\"attributes\":{\"source\":{\"id\":\"2509\"}},\"id\":\"2516\",\"type\":\"CDSView\"},{\"attributes\":{},\"id\":\"2497\",\"type\":\"PanTool\"},{\"attributes\":{},\"id\":\"2522\",\"type\":\"BasicTickFormatter\"},{\"attributes\":{},\"id\":\"2531\",\"type\":\"UnionRenderers\"},{\"attributes\":{\"base\":24,\"mantissas\":[1,2,4,6,8,12],\"max_interval\":43200000.0,\"min_interval\":3600000.0,\"num_minor_ticks\":0},\"id\":\"2536\",\"type\":\"AdaptiveTicker\"},{\"attributes\":{\"base\":60,\"mantissas\":[1,2,5,10,15,20,30],\"max_interval\":1800000.0,\"min_interval\":1000.0,\"num_minor_ticks\":0},\"id\":\"2535\",\"type\":\"AdaptiveTicker\"},{\"attributes\":{\"mantissas\":[1,2,5],\"max_interval\":500.0,\"num_minor_ticks\":0},\"id\":\"2534\",\"type\":\"AdaptiveTicker\"},{\"attributes\":{\"axis_label\":\"properties.datetime\",\"coordinates\":null,\"formatter\":{\"id\":\"2519\"},\"group\":null,\"major_label_policy\":{\"id\":\"2520\"},\"ticker\":{\"id\":\"2489\"}},\"id\":\"2488\",\"type\":\"DatetimeAxis\"},{\"attributes\":{\"tools\":[{\"id\":\"2478\"},{\"id\":\"2496\"},{\"id\":\"2497\"},{\"id\":\"2498\"},{\"id\":\"2499\"},{\"id\":\"2500\"}]},\"id\":\"2502\",\"type\":\"Toolbar\"},{\"attributes\":{},\"id\":\"2545\",\"type\":\"YearsTicker\"},{\"attributes\":{\"months\":[0,1,2,3,4,5,6,7,8,9,10,11]},\"id\":\"2541\",\"type\":\"MonthsTicker\"},{\"attributes\":{\"margin\":[5,5,5,5],\"name\":\"HSpacer05394\",\"sizing_mode\":\"stretch_width\"},\"id\":\"2546\",\"type\":\"Spacer\"},{\"attributes\":{},\"id\":\"2510\",\"type\":\"Selection\"},{\"attributes\":{\"days\":[1,15]},\"id\":\"2540\",\"type\":\"DaysTicker\"},{\"attributes\":{\"days\":[1,2,3,4,5,6,7,8,9,10,11,12,13,14,15,16,17,18,19,20,21,22,23,24,25,26,27,28,29,30,31]},\"id\":\"2537\",\"type\":\"DaysTicker\"},{\"attributes\":{\"days\":[1,4,7,10,13,16,19,22,25,28]},\"id\":\"2538\",\"type\":\"DaysTicker\"},{\"attributes\":{},\"id\":\"2493\",\"type\":\"BasicTicker\"},{\"attributes\":{\"days\":[1,8,15,22]},\"id\":\"2539\",\"type\":\"DaysTicker\"},{\"attributes\":{},\"id\":\"2498\",\"type\":\"WheelZoomTool\"},{\"attributes\":{\"months\":[0,6]},\"id\":\"2544\",\"type\":\"MonthsTicker\"},{\"attributes\":{},\"id\":\"2496\",\"type\":\"SaveTool\"},{\"attributes\":{\"months\":[0,2,4,6,8,10]},\"id\":\"2542\",\"type\":\"MonthsTicker\"},{\"attributes\":{\"overlay\":{\"id\":\"2501\"}},\"id\":\"2499\",\"type\":\"BoxZoomTool\"},{\"attributes\":{},\"id\":\"2500\",\"type\":\"ResetTool\"},{\"attributes\":{\"line_color\":\"#30a2da\",\"line_width\":2,\"x\":{\"field\":\"properties.datetime\"},\"y\":{\"field\":\"properties.eo:cloud_cover\"}},\"id\":\"2512\",\"type\":\"Line\"},{\"attributes\":{\"months\":[0,4,8]},\"id\":\"2543\",\"type\":\"MonthsTicker\"},{\"attributes\":{\"margin\":[5,5,5,5],\"name\":\"HSpacer05393\",\"sizing_mode\":\"stretch_width\"},\"id\":\"2475\",\"type\":\"Spacer\"},{\"attributes\":{\"bottom_units\":\"screen\",\"coordinates\":null,\"fill_alpha\":0.5,\"fill_color\":\"lightgrey\",\"group\":null,\"left_units\":\"screen\",\"level\":\"overlay\",\"line_alpha\":1.0,\"line_color\":\"black\",\"line_dash\":[4,4],\"line_width\":2,\"right_units\":\"screen\",\"syncable\":false,\"top_units\":\"screen\"},\"id\":\"2501\",\"type\":\"BoxAnnotation\"},{\"attributes\":{\"end\":1603103627663.885,\"reset_end\":1603103627663.885,\"reset_start\":1516012410495.793,\"start\":1516012410495.793,\"tags\":[[[\"properties.datetime\",\"properties.datetime\",null]]]},\"id\":\"2476\",\"type\":\"Range1d\"},{\"attributes\":{\"line_alpha\":0.2,\"line_color\":\"#30a2da\",\"line_width\":2,\"x\":{\"field\":\"properties.datetime\"},\"y\":{\"field\":\"properties.eo:cloud_cover\"}},\"id\":\"2514\",\"type\":\"Line\"},{\"attributes\":{\"children\":[{\"id\":\"2475\"},{\"id\":\"2479\"},{\"id\":\"2546\"}],\"margin\":[0,0,0,0],\"name\":\"Row05389\",\"tags\":[\"embedded\"]},\"id\":\"2474\",\"type\":\"Row\"},{\"attributes\":{\"coordinates\":null,\"data_source\":{\"id\":\"2509\"},\"glyph\":{\"id\":\"2512\"},\"group\":null,\"hover_glyph\":null,\"muted_glyph\":{\"id\":\"2514\"},\"nonselection_glyph\":{\"id\":\"2513\"},\"selection_glyph\":{\"id\":\"2517\"},\"view\":{\"id\":\"2516\"}},\"id\":\"2515\",\"type\":\"GlyphRenderer\"},{\"attributes\":{},\"id\":\"2484\",\"type\":\"LinearScale\"}],\"root_ids\":[\"2474\"]},\"title\":\"Bokeh Application\",\"version\":\"2.4.3\"}};\n",
       "    var render_items = [{\"docid\":\"e0358105-14d3-4b74-860d-2c1c9f3efac1\",\"root_ids\":[\"2474\"],\"roots\":{\"2474\":\"088eaa9a-7cf3-4325-bef5-b614fd538b2f\"}}];\n",
       "    root.Bokeh.embed.embed_items_notebook(docs_json, render_items);\n",
       "  }\n",
       "  if (root.Bokeh !== undefined && root.Bokeh.Panel !== undefined) {\n",
       "    embed_document(root);\n",
       "  } else {\n",
       "    var attempts = 0;\n",
       "    var timer = setInterval(function(root) {\n",
       "      if (root.Bokeh !== undefined && root.Bokeh.Panel !== undefined) {\n",
       "        clearInterval(timer);\n",
       "        embed_document(root);\n",
       "      } else if (document.readyState == \"complete\") {\n",
       "        attempts++;\n",
       "        if (attempts > 200) {\n",
       "          clearInterval(timer);\n",
       "          console.log(\"Bokeh: ERROR: Unable to run BokehJS code because BokehJS library is missing\");\n",
       "        }\n",
       "      }\n",
       "    }, 25, root)\n",
       "  }\n",
       "})(window);</script>"
      ],
      "text/plain": [
       ":Curve   [properties.datetime]   (properties.eo:cloud_cover)"
      ]
     },
     "execution_count": 19,
     "metadata": {
      "application/vnd.holoviews_exec.v0+json": {
       "id": "2474"
      }
     },
     "output_type": "execute_result"
    }
   ],
   "source": [
    "filt = {\n",
    "    \"op\": \"gte\",\n",
    "    \"args\" : [{\"property\": \"eo:cloud_cover\"}, 80]\n",
    "}\n",
    "\n",
    "search_fetch_plot(params, filt)"
   ]
  },
  {
   "cell_type": "code",
   "execution_count": null,
   "id": "109f673c",
   "metadata": {},
   "outputs": [
    {
     "name": "stdout",
     "output_type": "stream",
     "text": [
      "41 items found\n"
     ]
    },
    {
     "data": {},
     "metadata": {},
     "output_type": "display_data"
    },
    {
     "data": {
      "application/vnd.holoviews_exec.v0+json": "",
      "text/html": [
       "<div id='2658'>\n",
       "  <div class=\"bk-root\" id=\"122845ef-df32-4c0f-a1a8-49936057e9a4\" data-root-id=\"2658\"></div>\n",
       "</div>\n",
       "<script type=\"application/javascript\">(function(root) {\n",
       "  function embed_document(root) {\n",
       "    var docs_json = {\"fed87580-768c-462b-b33b-00c09f6d6a4f\":{\"defs\":[{\"extends\":null,\"module\":null,\"name\":\"ReactiveHTML1\",\"overrides\":[],\"properties\":[]},{\"extends\":null,\"module\":null,\"name\":\"FlexBox1\",\"overrides\":[],\"properties\":[{\"default\":\"flex-start\",\"kind\":null,\"name\":\"align_content\"},{\"default\":\"flex-start\",\"kind\":null,\"name\":\"align_items\"},{\"default\":\"row\",\"kind\":null,\"name\":\"flex_direction\"},{\"default\":\"wrap\",\"kind\":null,\"name\":\"flex_wrap\"},{\"default\":\"flex-start\",\"kind\":null,\"name\":\"justify_content\"}]},{\"extends\":null,\"module\":null,\"name\":\"GridStack1\",\"overrides\":[],\"properties\":[{\"default\":\"warn\",\"kind\":null,\"name\":\"mode\"},{\"default\":null,\"kind\":null,\"name\":\"ncols\"},{\"default\":null,\"kind\":null,\"name\":\"nrows\"},{\"default\":true,\"kind\":null,\"name\":\"allow_resize\"},{\"default\":true,\"kind\":null,\"name\":\"allow_drag\"},{\"default\":[],\"kind\":null,\"name\":\"state\"}]},{\"extends\":null,\"module\":null,\"name\":\"click1\",\"overrides\":[],\"properties\":[{\"default\":\"\",\"kind\":null,\"name\":\"terminal_output\"},{\"default\":\"\",\"kind\":null,\"name\":\"debug_name\"},{\"default\":0,\"kind\":null,\"name\":\"clears\"}]},{\"extends\":null,\"module\":null,\"name\":\"NotificationAreaBase1\",\"overrides\":[],\"properties\":[{\"default\":\"bottom-right\",\"kind\":null,\"name\":\"position\"},{\"default\":0,\"kind\":null,\"name\":\"_clear\"}]},{\"extends\":null,\"module\":null,\"name\":\"NotificationArea1\",\"overrides\":[],\"properties\":[{\"default\":[],\"kind\":null,\"name\":\"notifications\"},{\"default\":\"bottom-right\",\"kind\":null,\"name\":\"position\"},{\"default\":0,\"kind\":null,\"name\":\"_clear\"},{\"default\":[{\"background\":\"#ffc107\",\"icon\":{\"className\":\"fas fa-exclamation-triangle\",\"color\":\"white\",\"tagName\":\"i\"},\"type\":\"warning\"},{\"background\":\"#007bff\",\"icon\":{\"className\":\"fas fa-info-circle\",\"color\":\"white\",\"tagName\":\"i\"},\"type\":\"info\"}],\"kind\":null,\"name\":\"types\"}]},{\"extends\":null,\"module\":null,\"name\":\"Notification\",\"overrides\":[],\"properties\":[{\"default\":null,\"kind\":null,\"name\":\"background\"},{\"default\":3000,\"kind\":null,\"name\":\"duration\"},{\"default\":null,\"kind\":null,\"name\":\"icon\"},{\"default\":\"\",\"kind\":null,\"name\":\"message\"},{\"default\":null,\"kind\":null,\"name\":\"notification_type\"},{\"default\":false,\"kind\":null,\"name\":\"_destroyed\"}]},{\"extends\":null,\"module\":null,\"name\":\"TemplateActions1\",\"overrides\":[],\"properties\":[{\"default\":0,\"kind\":null,\"name\":\"open_modal\"},{\"default\":0,\"kind\":null,\"name\":\"close_modal\"}]},{\"extends\":null,\"module\":null,\"name\":\"MaterialTemplateActions1\",\"overrides\":[],\"properties\":[{\"default\":0,\"kind\":null,\"name\":\"open_modal\"},{\"default\":0,\"kind\":null,\"name\":\"close_modal\"}]}],\"roots\":{\"references\":[{\"attributes\":{},\"id\":\"2682\",\"type\":\"WheelZoomTool\"},{\"attributes\":{\"end\":62.933,\"reset_end\":62.933,\"reset_start\":38.417,\"start\":38.417,\"tags\":[[[\"properties.eo:cloud_cover\",\"properties.eo:cloud_cover\",null]]]},\"id\":\"2661\",\"type\":\"Range1d\"},{\"attributes\":{},\"id\":\"2681\",\"type\":\"PanTool\"},{\"attributes\":{},\"id\":\"2668\",\"type\":\"LinearScale\"},{\"attributes\":{\"margin\":[5,5,5,5],\"name\":\"HSpacer05831\",\"sizing_mode\":\"stretch_width\"},\"id\":\"2659\",\"type\":\"Spacer\"},{\"attributes\":{\"overlay\":{\"id\":\"2685\"}},\"id\":\"2683\",\"type\":\"BoxZoomTool\"},{\"attributes\":{\"mantissas\":[1,2,5],\"max_interval\":500.0,\"num_minor_ticks\":0},\"id\":\"2718\",\"type\":\"AdaptiveTicker\"},{\"attributes\":{\"end\":1599733649647.455,\"reset_end\":1599733649647.455,\"reset_start\":1519554420756.7722,\"start\":1519554420756.7722,\"tags\":[[[\"properties.datetime\",\"properties.datetime\",null]]]},\"id\":\"2660\",\"type\":\"Range1d\"},{\"attributes\":{\"margin\":[5,5,5,5],\"name\":\"HSpacer05832\",\"sizing_mode\":\"stretch_width\"},\"id\":\"2730\",\"type\":\"Spacer\"},{\"attributes\":{},\"id\":\"2684\",\"type\":\"ResetTool\"},{\"attributes\":{\"axis\":{\"id\":\"2672\"},\"coordinates\":null,\"grid_line_color\":null,\"group\":null,\"ticker\":null},\"id\":\"2675\",\"type\":\"Grid\"},{\"attributes\":{\"bottom_units\":\"screen\",\"coordinates\":null,\"fill_alpha\":0.5,\"fill_color\":\"lightgrey\",\"group\":null,\"left_units\":\"screen\",\"level\":\"overlay\",\"line_alpha\":1.0,\"line_color\":\"black\",\"line_dash\":[4,4],\"line_width\":2,\"right_units\":\"screen\",\"syncable\":false,\"top_units\":\"screen\"},\"id\":\"2685\",\"type\":\"BoxAnnotation\"},{\"attributes\":{\"base\":60,\"mantissas\":[1,2,5,10,15,20,30],\"max_interval\":1800000.0,\"min_interval\":1000.0,\"num_minor_ticks\":0},\"id\":\"2719\",\"type\":\"AdaptiveTicker\"},{\"attributes\":{\"callback\":null,\"formatters\":{\"@{properties.datetime}\":\"datetime\",\"@{properties_full_stop_datetime}\":\"datetime\"},\"renderers\":[{\"id\":\"2699\"}],\"tags\":[\"hv_created\"],\"tooltips\":[[\"properties.datetime\",\"@{properties_full_stop_datetime}{%F %T}\"],[\"properties.eo:cloud_cover\",\"@{properties_full_stop_eo_colon_cloud_cover}\"]]},\"id\":\"2662\",\"type\":\"HoverTool\"},{\"attributes\":{\"base\":24,\"mantissas\":[1,2,4,6,8,12],\"max_interval\":43200000.0,\"min_interval\":3600000.0,\"num_minor_ticks\":0},\"id\":\"2720\",\"type\":\"AdaptiveTicker\"},{\"attributes\":{\"line_alpha\":0.2,\"line_color\":\"#30a2da\",\"line_width\":2,\"x\":{\"field\":\"properties.datetime\"},\"y\":{\"field\":\"properties.eo:cloud_cover\"}},\"id\":\"2698\",\"type\":\"Line\"},{\"attributes\":{},\"id\":\"2729\",\"type\":\"YearsTicker\"},{\"attributes\":{\"months\":[0,1,2,3,4,5,6,7,8,9,10,11]},\"id\":\"2725\",\"type\":\"MonthsTicker\"},{\"attributes\":{\"days\":[1,15]},\"id\":\"2724\",\"type\":\"DaysTicker\"},{\"attributes\":{\"line_color\":\"#30a2da\",\"line_width\":2,\"x\":{\"field\":\"properties.datetime\"},\"y\":{\"field\":\"properties.eo:cloud_cover\"}},\"id\":\"2696\",\"type\":\"Line\"},{\"attributes\":{},\"id\":\"2707\",\"type\":\"AllLabels\"},{\"attributes\":{\"days\":[1,2,3,4,5,6,7,8,9,10,11,12,13,14,15,16,17,18,19,20,21,22,23,24,25,26,27,28,29,30,31]},\"id\":\"2721\",\"type\":\"DaysTicker\"},{\"attributes\":{\"days\":[1,4,7,10,13,16,19,22,25,28]},\"id\":\"2722\",\"type\":\"DaysTicker\"},{\"attributes\":{\"days\":[1,8,15,22]},\"id\":\"2723\",\"type\":\"DaysTicker\"},{\"attributes\":{\"axis\":{\"id\":\"2676\"},\"coordinates\":null,\"dimension\":1,\"grid_line_color\":null,\"group\":null,\"ticker\":null},\"id\":\"2679\",\"type\":\"Grid\"},{\"attributes\":{\"months\":[0,6]},\"id\":\"2728\",\"type\":\"MonthsTicker\"},{\"attributes\":{\"below\":[{\"id\":\"2672\"}],\"center\":[{\"id\":\"2675\"},{\"id\":\"2679\"}],\"frame_height\":500,\"frame_width\":800,\"height\":null,\"left\":[{\"id\":\"2676\"}],\"margin\":[5,5,5,5],\"min_border_bottom\":10,\"min_border_left\":10,\"min_border_right\":10,\"min_border_top\":10,\"renderers\":[{\"id\":\"2699\"}],\"sizing_mode\":\"fixed\",\"title\":{\"id\":\"2664\"},\"toolbar\":{\"id\":\"2686\"},\"width\":null,\"x_range\":{\"id\":\"2660\"},\"x_scale\":{\"id\":\"2668\"},\"y_range\":{\"id\":\"2661\"},\"y_scale\":{\"id\":\"2670\"}},\"id\":\"2663\",\"subtype\":\"Figure\",\"type\":\"Plot\"},{\"attributes\":{\"months\":[0,2,4,6,8,10]},\"id\":\"2726\",\"type\":\"MonthsTicker\"},{\"attributes\":{},\"id\":\"2680\",\"type\":\"SaveTool\"},{\"attributes\":{},\"id\":\"2706\",\"type\":\"BasicTickFormatter\"},{\"attributes\":{\"months\":[0,4,8]},\"id\":\"2727\",\"type\":\"MonthsTicker\"},{\"attributes\":{\"num_minor_ticks\":5,\"tickers\":[{\"id\":\"2718\"},{\"id\":\"2719\"},{\"id\":\"2720\"},{\"id\":\"2721\"},{\"id\":\"2722\"},{\"id\":\"2723\"},{\"id\":\"2724\"},{\"id\":\"2725\"},{\"id\":\"2726\"},{\"id\":\"2727\"},{\"id\":\"2728\"},{\"id\":\"2729\"}]},\"id\":\"2673\",\"type\":\"DatetimeTicker\"},{\"attributes\":{\"axis_label\":\"properties.eo:cloud_cover\",\"coordinates\":null,\"formatter\":{\"id\":\"2706\"},\"group\":null,\"major_label_policy\":{\"id\":\"2707\"},\"ticker\":{\"id\":\"2677\"}},\"id\":\"2676\",\"type\":\"LinearAxis\"},{\"attributes\":{\"tools\":[{\"id\":\"2662\"},{\"id\":\"2680\"},{\"id\":\"2681\"},{\"id\":\"2682\"},{\"id\":\"2683\"},{\"id\":\"2684\"}]},\"id\":\"2686\",\"type\":\"Toolbar\"},{\"attributes\":{\"axis_label\":\"properties.datetime\",\"coordinates\":null,\"formatter\":{\"id\":\"2703\"},\"group\":null,\"major_label_policy\":{\"id\":\"2704\"},\"ticker\":{\"id\":\"2673\"}},\"id\":\"2672\",\"type\":\"DatetimeAxis\"},{\"attributes\":{\"coordinates\":null,\"group\":null,\"text\":\"{\\\"op\\\": \\\"and\\\", \\\"args\\\": [{\\\"op\\\": \\\"lte\\\", \\\"args\\\": [{\\\"property\\\": \\\"eo:cloud_cover\\\"}, 60]}, {\\\"op\\\": \\\"gte\\\", \\\"args\\\": [{\\\"property\\\": \\\"eo:cloud_cover\\\"}, 40]}]}\",\"text_color\":\"black\",\"text_font_size\":\"12pt\"},\"id\":\"2664\",\"type\":\"Title\"},{\"attributes\":{\"source\":{\"id\":\"2693\"}},\"id\":\"2700\",\"type\":\"CDSView\"},{\"attributes\":{\"data\":{\"properties.datetime\":{\"__ndarray__\":\"WkwBBsgcdkISTW7BhzZ2QtEqQseHNnZCBhWy6Mg4dkL2IB4grjt2Qs0wHfo7SHZCjW/Wu4hSdkJtJ94Tr1d2QhJj7AjhZHZC/lgJwy1vdkIIQp7AoZp2QhA0ytxFm3ZC7LPG0xSqdkLBoJvZFKp2QslOOBT6rHZCBtFrbCCydkL2lCet1MN2Qin8ZeG5xnZCP6U657nGdkInLYFnIc52QhnGzfgs1nZCPVh5W1PbdkLHr5l4lN12QtlYbn6U3XZC0YDUonr8dkJiVuRSxwZ3QqxASbPtC3dCpslKZzoWd0JxW9RPbCN3QsWCj62SKHdC1ytks5Iod0LhmDfX0yp3QrwCkmnfMndCj3bLkiA1d0ItAq3MBTh3QrLzcyksPXdC8twkR20/d0IIhvlMbT93Qvyf9aqTRHdCpMY533hHd0JI9w7leEd3Qg==\",\"dtype\":\"float64\",\"order\":\"little\",\"shape\":[41]},\"properties.eo:cloud_cover\":{\"__ndarray__\":\"KVyPwvWIRkCPwvUoXE9MQLgehetR+EpAw/UoXI+CR0Bcj8L1KFxHQArXo3A9ikhA16NwPQoXSEAK16NwPQpMQArXo3A9SkdAexSuR+E6REBSuB6F61FJQOF6FK5HYU5AUrgehevxRkA9CtejcJ1GQK5H4XoULk5Aj8L1KFyPTEDNzMzMzCxOQFyPwvUofEtAj8L1KFyPREApXI/C9UhKQArXo3A9Ck1ASOF6FK7nTUBxPQrXo7BHQOxRuB6Fi0dAhetRuB5FRkCkcD0K10NHQBSuR+F6VEVAPQrXo3B9R0CamZmZmblJQNejcD0KN0ZAAAAAAAAASUDNzMzMzGxHQOxRuB6FS0hAAAAAAABgS0BmZmZmZmZOQFyPwvUofE1ACtejcD1KRUDD9Shcj2JOQHE9CtejUExAUrgehetxTkA9CtejcB1OQA==\",\"dtype\":\"float64\",\"order\":\"little\",\"shape\":[41]},\"properties_full_stop_datetime\":{\"__ndarray__\":\"WkwBBsgcdkISTW7BhzZ2QtEqQseHNnZCBhWy6Mg4dkL2IB4grjt2Qs0wHfo7SHZCjW/Wu4hSdkJtJ94Tr1d2QhJj7AjhZHZC/lgJwy1vdkIIQp7AoZp2QhA0ytxFm3ZC7LPG0xSqdkLBoJvZFKp2QslOOBT6rHZCBtFrbCCydkL2lCet1MN2Qin8ZeG5xnZCP6U657nGdkInLYFnIc52QhnGzfgs1nZCPVh5W1PbdkLHr5l4lN12QtlYbn6U3XZC0YDUonr8dkJiVuRSxwZ3QqxASbPtC3dCpslKZzoWd0JxW9RPbCN3QsWCj62SKHdC1ytks5Iod0LhmDfX0yp3QrwCkmnfMndCj3bLkiA1d0ItAq3MBTh3QrLzcyksPXdC8twkR20/d0IIhvlMbT93Qvyf9aqTRHdCpMY533hHd0JI9w7leEd3Qg==\",\"dtype\":\"float64\",\"order\":\"little\",\"shape\":[41]},\"properties_full_stop_eo_colon_cloud_cover\":{\"__ndarray__\":\"KVyPwvWIRkCPwvUoXE9MQLgehetR+EpAw/UoXI+CR0Bcj8L1KFxHQArXo3A9ikhA16NwPQoXSEAK16NwPQpMQArXo3A9SkdAexSuR+E6REBSuB6F61FJQOF6FK5HYU5AUrgehevxRkA9CtejcJ1GQK5H4XoULk5Aj8L1KFyPTEDNzMzMzCxOQFyPwvUofEtAj8L1KFyPREApXI/C9UhKQArXo3A9Ck1ASOF6FK7nTUBxPQrXo7BHQOxRuB6Fi0dAhetRuB5FRkCkcD0K10NHQBSuR+F6VEVAPQrXo3B9R0CamZmZmblJQNejcD0KN0ZAAAAAAAAASUDNzMzMzGxHQOxRuB6FS0hAAAAAAABgS0BmZmZmZmZOQFyPwvUofE1ACtejcD1KRUDD9Shcj2JOQHE9CtejUExAUrgehetxTkA9CtejcB1OQA==\",\"dtype\":\"float64\",\"order\":\"little\",\"shape\":[41]}},\"selected\":{\"id\":\"2694\"},\"selection_policy\":{\"id\":\"2715\"}},\"id\":\"2693\",\"type\":\"ColumnDataSource\"},{\"attributes\":{\"line_alpha\":0.1,\"line_color\":\"#30a2da\",\"line_width\":2,\"x\":{\"field\":\"properties.datetime\"},\"y\":{\"field\":\"properties.eo:cloud_cover\"}},\"id\":\"2697\",\"type\":\"Line\"},{\"attributes\":{},\"id\":\"2715\",\"type\":\"UnionRenderers\"},{\"attributes\":{},\"id\":\"2694\",\"type\":\"Selection\"},{\"attributes\":{\"coordinates\":null,\"data_source\":{\"id\":\"2693\"},\"glyph\":{\"id\":\"2696\"},\"group\":null,\"hover_glyph\":null,\"muted_glyph\":{\"id\":\"2698\"},\"nonselection_glyph\":{\"id\":\"2697\"},\"selection_glyph\":{\"id\":\"2701\"},\"view\":{\"id\":\"2700\"}},\"id\":\"2699\",\"type\":\"GlyphRenderer\"},{\"attributes\":{},\"id\":\"2704\",\"type\":\"AllLabels\"},{\"attributes\":{},\"id\":\"2703\",\"type\":\"DatetimeTickFormatter\"},{\"attributes\":{\"line_color\":\"#30a2da\",\"line_width\":2,\"x\":{\"field\":\"properties.datetime\"},\"y\":{\"field\":\"properties.eo:cloud_cover\"}},\"id\":\"2701\",\"type\":\"Line\"},{\"attributes\":{},\"id\":\"2677\",\"type\":\"BasicTicker\"},{\"attributes\":{},\"id\":\"2670\",\"type\":\"LinearScale\"},{\"attributes\":{\"children\":[{\"id\":\"2659\"},{\"id\":\"2663\"},{\"id\":\"2730\"}],\"margin\":[0,0,0,0],\"name\":\"Row05827\",\"tags\":[\"embedded\"]},\"id\":\"2658\",\"type\":\"Row\"}],\"root_ids\":[\"2658\"]},\"title\":\"Bokeh Application\",\"version\":\"2.4.3\"}};\n",
       "    var render_items = [{\"docid\":\"fed87580-768c-462b-b33b-00c09f6d6a4f\",\"root_ids\":[\"2658\"],\"roots\":{\"2658\":\"122845ef-df32-4c0f-a1a8-49936057e9a4\"}}];\n",
       "    root.Bokeh.embed.embed_items_notebook(docs_json, render_items);\n",
       "  }\n",
       "  if (root.Bokeh !== undefined && root.Bokeh.Panel !== undefined) {\n",
       "    embed_document(root);\n",
       "  } else {\n",
       "    var attempts = 0;\n",
       "    var timer = setInterval(function(root) {\n",
       "      if (root.Bokeh !== undefined && root.Bokeh.Panel !== undefined) {\n",
       "        clearInterval(timer);\n",
       "        embed_document(root);\n",
       "      } else if (document.readyState == \"complete\") {\n",
       "        attempts++;\n",
       "        if (attempts > 200) {\n",
       "          clearInterval(timer);\n",
       "          console.log(\"Bokeh: ERROR: Unable to run BokehJS code because BokehJS library is missing\");\n",
       "        }\n",
       "      }\n",
       "    }, 25, root)\n",
       "  }\n",
       "})(window);</script>"
      ],
      "text/plain": [
       ":Curve   [properties.datetime]   (properties.eo:cloud_cover)"
      ]
     },
     "execution_count": 20,
     "metadata": {
      "application/vnd.holoviews_exec.v0+json": {
       "id": "2658"
      }
     },
     "output_type": "execute_result"
    }
   ],
   "source": [
    "filt = { \n",
    "    \"op\": \"and\",\n",
    "    \"args\": [\n",
    "      { \n",
    "          \"op\":\"lte\", \n",
    "          \"args\": [{\"property\": \"eo:cloud_cover\"}, 60]\n",
    "      },\n",
    "      { \n",
    "          \"op\": \"gte\", \n",
    "          \"args\": [{\"property\": \"eo:cloud_cover\"}, 40]\n",
    "      }\n",
    "    ]\n",
    "}\n",
    "\n",
    "search_fetch_plot(params, filt)"
   ]
  }
 ],
 "metadata": {
  "interpreter": {
   "hash": "6b6313dbab648ff537330b996f33bf845c0da10ea77ae70864d6ca8e2699c7ea"
  },
  "kernelspec": {
   "display_name": "Python 3.9.11 ('.venv': venv)",
   "language": "python",
   "name": "python3"
  },
  "language_info": {
   "codemirror_mode": {
    "name": "ipython",
    "version": 3
   },
   "file_extension": ".py",
   "mimetype": "text/x-python",
   "name": "python",
   "nbconvert_exporter": "python",
   "pygments_lexer": "ipython3",
   "version": "3.9.11"
  }
 },
 "nbformat": 4,
 "nbformat_minor": 5
}
